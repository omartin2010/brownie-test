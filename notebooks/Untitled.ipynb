{
 "cells": [
  {
   "cell_type": "code",
   "execution_count": 1,
   "id": "6501ab32-8903-44f2-bb81-1989e3306456",
   "metadata": {},
   "outputs": [
    {
     "ename": "ModuleNotFoundError",
     "evalue": "No module named 'PBKDF2'",
     "output_type": "error",
     "traceback": [
      "\u001b[0;31m---------------------------------------------------------------------------\u001b[0m",
      "\u001b[0;31mModuleNotFoundError\u001b[0m                       Traceback (most recent call last)",
      "\u001b[0;32m/var/folders/zl/jdjtgmdj1zg9gqnt79qfd33r0000gn/T/ipykernel_35165/3163348177.py\u001b[0m in \u001b[0;36m<module>\u001b[0;34m\u001b[0m\n\u001b[1;32m      2\u001b[0m \u001b[0;31m# from pypbkdf2 import PyPBKDF2\u001b[0m\u001b[0;34m\u001b[0m\u001b[0;34m\u001b[0m\u001b[0;34m\u001b[0m\u001b[0m\n\u001b[1;32m      3\u001b[0m \u001b[0;31m# import pypbkdf2\u001b[0m\u001b[0;34m\u001b[0m\u001b[0;34m\u001b[0m\u001b[0;34m\u001b[0m\u001b[0m\n\u001b[0;32m----> 4\u001b[0;31m \u001b[0;32mfrom\u001b[0m \u001b[0mPBKDF2\u001b[0m \u001b[0;32mimport\u001b[0m \u001b[0mPBKDF2\u001b[0m\u001b[0;34m\u001b[0m\u001b[0;34m\u001b[0m\u001b[0m\n\u001b[0m",
      "\u001b[0;31mModuleNotFoundError\u001b[0m: No module named 'PBKDF2'"
     ]
    }
   ],
   "source": [
    "from mnemonic import Mnemonic\n",
    "# from pypbkdf2 import PyPBKDF2\n",
    "# import pypbkdf2\n",
    "from PBKDF2 import PBKDF2"
   ]
  },
  {
   "cell_type": "code",
   "execution_count": 33,
   "id": "c5007f62-078b-47fd-a083-3f42fc0ae60d",
   "metadata": {},
   "outputs": [],
   "source": [
    "p = pypbkdf2.PyPBKDF2()"
   ]
  },
  {
   "cell_type": "code",
   "execution_count": null,
   "id": "7ea8811f-9358-47e9-9e1c-d013f227dd4a",
   "metadata": {},
   "outputs": [],
   "source": [
    "p."
   ]
  },
  {
   "cell_type": "code",
   "execution_count": 2,
   "id": "c1349dbb-d502-4441-9742-658d15f58e5e",
   "metadata": {},
   "outputs": [],
   "source": [
    "mnemo = Mnemonic(\"english\")"
   ]
  },
  {
   "cell_type": "code",
   "execution_count": 5,
   "id": "100d3da9-2f26-4075-a2b2-cfca5854e93c",
   "metadata": {},
   "outputs": [],
   "source": [
    "words = mnemo.generate(strength=128)"
   ]
  },
  {
   "cell_type": "code",
   "execution_count": 20,
   "id": "f190a5a4-c4f0-4351-b919-4f318e0ff5cd",
   "metadata": {},
   "outputs": [],
   "source": [
    "words = 'rotate quote often wet hope that project tank mother canoe demise income'\n",
    "words = 'wild quiz always market robust board acid enough twist divert margin route'"
   ]
  },
  {
   "cell_type": "code",
   "execution_count": 30,
   "id": "67f1b2f9-19e1-48d9-b362-141bd91b4a23",
   "metadata": {},
   "outputs": [
    {
     "ename": "TypeError",
     "evalue": "'<' not supported between instances of 'str' and 'int'",
     "output_type": "error",
     "traceback": [
      "\u001b[0;31m---------------------------------------------------------------------------\u001b[0m",
      "\u001b[0;31mTypeError\u001b[0m                                 Traceback (most recent call last)",
      "\u001b[0;32m/var/folders/zl/jdjtgmdj1zg9gqnt79qfd33r0000gn/T/ipykernel_34914/1177548587.py\u001b[0m in \u001b[0;36m<module>\u001b[0;34m\u001b[0m\n\u001b[0;32m----> 1\u001b[0;31m \u001b[0mPyPBKDF2\u001b[0m\u001b[0;34m(\u001b[0m\u001b[0mwords\u001b[0m\u001b[0;34m,\u001b[0m \u001b[0;34m\"mnenomic\"\u001b[0m\u001b[0;34m)\u001b[0m\u001b[0;34m\u001b[0m\u001b[0;34m\u001b[0m\u001b[0m\n\u001b[0m",
      "\u001b[0;32m~/miniconda3/envs/uniswap/lib/python3.8/site-packages/pypbkdf2/__init__.py\u001b[0m in \u001b[0;36m__init__\u001b[0;34m(self, alg, salt_size, iterations, key_len)\u001b[0m\n\u001b[1;32m     39\u001b[0m         \u001b[0mself\u001b[0m\u001b[0;34m.\u001b[0m\u001b[0malg\u001b[0m \u001b[0;34m=\u001b[0m \u001b[0malg\u001b[0m\u001b[0;34m\u001b[0m\u001b[0;34m\u001b[0m\u001b[0m\n\u001b[1;32m     40\u001b[0m \u001b[0;34m\u001b[0m\u001b[0m\n\u001b[0;32m---> 41\u001b[0;31m         \u001b[0;32mif\u001b[0m \u001b[0msalt_size\u001b[0m \u001b[0;34m<\u001b[0m \u001b[0;36m8\u001b[0m\u001b[0;34m:\u001b[0m\u001b[0;34m\u001b[0m\u001b[0;34m\u001b[0m\u001b[0m\n\u001b[0m\u001b[1;32m     42\u001b[0m             \u001b[0mself\u001b[0m\u001b[0;34m.\u001b[0m\u001b[0msalt_size\u001b[0m \u001b[0;34m=\u001b[0m \u001b[0mMIN_SALT_SIZE\u001b[0m\u001b[0;34m\u001b[0m\u001b[0;34m\u001b[0m\u001b[0m\n\u001b[1;32m     43\u001b[0m         \u001b[0;32melse\u001b[0m\u001b[0;34m:\u001b[0m\u001b[0;34m\u001b[0m\u001b[0;34m\u001b[0m\u001b[0m\n",
      "\u001b[0;31mTypeError\u001b[0m: '<' not supported between instances of 'str' and 'int'"
     ]
    }
   ],
   "source": [
    "PyPBKDF2(alg='sha256', "
   ]
  },
  {
   "cell_type": "code",
   "execution_count": 25,
   "id": "f4c8a8b4-29e8-4bf5-b042-c632cd795d8d",
   "metadata": {},
   "outputs": [],
   "source": [
    "seeds = mnemo.to_seed(words, passphrase=\"mnenomic\")"
   ]
  },
  {
   "cell_type": "code",
   "execution_count": 26,
   "id": "98d45a89-5e76-45ae-8379-4ccdb8527b8c",
   "metadata": {},
   "outputs": [
    {
     "data": {
      "text/plain": [
       "b\"\\xbe\\x8fk\\xe8g-p2KZ\\x86\\xf13\\xbfp\\xe55Y\\x16\\xcdtg\\xfc\\xea\\x18\\xa0q\\x13\\xf4\\xd6\\xf7S\\xd09O\\x87\\xc6}l\\xc8,\\xe2!\\xf7\\xe4\\x9cEg\\xc4h\\xbebT\\x10:\\xd0a\\xaa\\xe2\\x01\\xb7'\\xb7\\xf8\""
      ]
     },
     "execution_count": 26,
     "metadata": {},
     "output_type": "execute_result"
    }
   ],
   "source": [
    "seeds"
   ]
  },
  {
   "cell_type": "code",
   "execution_count": 27,
   "id": "70534e78-eb7d-4a42-a948-837d5eb3af32",
   "metadata": {},
   "outputs": [
    {
     "data": {
      "text/plain": [
       "'0xbe8f6be8672d70324b5a86f133bf70e5355916cd7467fcea18a07113f4d6f753d0394f87c67d6cc82ce221f7e49c4567c468be6254103ad061aae201b727b7f8'"
      ]
     },
     "execution_count": 27,
     "metadata": {},
     "output_type": "execute_result"
    }
   ],
   "source": [
    "'0x' + seeds.hex()"
   ]
  },
  {
   "cell_type": "code",
   "execution_count": 12,
   "id": "9aebf3b7-4ce2-47e1-92db-2658aa1b4edc",
   "metadata": {},
   "outputs": [],
   "source": [
    "from bip32utils import BIP32Key\n",
    "from bip32utils import BIP32_HARDEN\n",
    "import os, bip39\n",
    "# from mnenomic import Mnemonic"
   ]
  },
  {
   "cell_type": "code",
   "execution_count": 2,
   "id": "90acb85d-e5f2-4444-bb2f-a4579b41d096",
   "metadata": {},
   "outputs": [
    {
     "ename": "AttributeError",
     "evalue": "module 'bip39' has no attribute 'Mnemonic'",
     "output_type": "error",
     "traceback": [
      "\u001b[0;31m---------------------------------------------------------------------------\u001b[0m",
      "\u001b[0;31mAttributeError\u001b[0m                            Traceback (most recent call last)",
      "\u001b[0;32m/var/folders/zl/jdjtgmdj1zg9gqnt79qfd33r0000gn/T/ipykernel_58775/126480206.py\u001b[0m in \u001b[0;36m<module>\u001b[0;34m\u001b[0m\n\u001b[1;32m      1\u001b[0m \u001b[0mstrength_bits\u001b[0m \u001b[0;34m=\u001b[0m \u001b[0;36m128\u001b[0m\u001b[0;34m\u001b[0m\u001b[0;34m\u001b[0m\u001b[0m\n\u001b[1;32m      2\u001b[0m \u001b[0mentropy\u001b[0m \u001b[0;34m=\u001b[0m \u001b[0mos\u001b[0m\u001b[0;34m.\u001b[0m\u001b[0murandom\u001b[0m\u001b[0;34m(\u001b[0m\u001b[0mstrength_bits\u001b[0m \u001b[0;34m//\u001b[0m \u001b[0;36m8\u001b[0m\u001b[0;34m)\u001b[0m\u001b[0;34m\u001b[0m\u001b[0;34m\u001b[0m\u001b[0m\n\u001b[0;32m----> 3\u001b[0;31m \u001b[0mwallet_generator\u001b[0m \u001b[0;34m=\u001b[0m \u001b[0mbip39\u001b[0m\u001b[0;34m.\u001b[0m\u001b[0mMnemonic\u001b[0m\u001b[0;34m(\u001b[0m\u001b[0;34m'english'\u001b[0m\u001b[0;34m)\u001b[0m\u001b[0;34m\u001b[0m\u001b[0;34m\u001b[0m\u001b[0m\n\u001b[0m\u001b[1;32m      4\u001b[0m \u001b[0mmnemonic\u001b[0m \u001b[0;34m=\u001b[0m \u001b[0mwallet_generator\u001b[0m\u001b[0;34m.\u001b[0m\u001b[0mto_mnemonic\u001b[0m\u001b[0;34m(\u001b[0m\u001b[0mentropy\u001b[0m\u001b[0;34m)\u001b[0m\u001b[0;34m\u001b[0m\u001b[0;34m\u001b[0m\u001b[0m\n\u001b[1;32m      5\u001b[0m \u001b[0;32massert\u001b[0m \u001b[0mwallet_generator\u001b[0m\u001b[0;34m.\u001b[0m\u001b[0mto_entropy\u001b[0m\u001b[0;34m(\u001b[0m\u001b[0mmnemonic\u001b[0m\u001b[0;34m)\u001b[0m \u001b[0;34m==\u001b[0m \u001b[0mentropy\u001b[0m  \u001b[0;31m# see, bijective!\u001b[0m\u001b[0;34m\u001b[0m\u001b[0;34m\u001b[0m\u001b[0m\n",
      "\u001b[0;31mAttributeError\u001b[0m: module 'bip39' has no attribute 'Mnemonic'"
     ]
    }
   ],
   "source": [
    "strength_bits = 128\n",
    "entropy = os.urandom(strength_bits // 8)\n",
    "wallet_generator = bip39.Mnemonic('english')\n",
    "mnemonic = wallet_generator.to_mnemonic(entropy)\n",
    "assert wallet_generator.to_entropy(mnemonic) == entropy  # see, bijective!"
   ]
  },
  {
   "cell_type": "code",
   "execution_count": 14,
   "id": "1c764b55-63a7-434b-a414-1b424cddd679",
   "metadata": {},
   "outputs": [],
   "source": [
    "key = BIP32Key.fromEntropy(seeds)"
   ]
  },
  {
   "cell_type": "code",
   "execution_count": 27,
   "id": "b661cb66-d6ed-4a11-997c-c7cbb313504c",
   "metadata": {},
   "outputs": [
    {
     "name": "stdout",
     "output_type": "stream",
     "text": [
      "18EgYd3Fc2iV168rx49YozCn7EYDE72jwQ\n"
     ]
    }
   ],
   "source": [
    "account_number = 0\n",
    "i = 0\n",
    "print(key.ChildKey(44 + BIP32_HARDEN) \\\n",
    "         .ChildKey(0 + BIP32_HARDEN) \\\n",
    "         .ChildKey(account_number + BIP32_HARDEN) \\\n",
    "         .ChildKey(0) \\\n",
    "         .ChildKey(i) \\\n",
    "         .Address())"
   ]
  },
  {
   "cell_type": "code",
   "execution_count": 1,
   "id": "ffb8a26c-1033-477d-9350-2feb116075af",
   "metadata": {},
   "outputs": [],
   "source": [
    "from secrets import token_bytes"
   ]
  },
  {
   "cell_type": "code",
   "execution_count": 2,
   "id": "4449493c-e531-40cc-bf1f-ae485b55fa20",
   "metadata": {},
   "outputs": [],
   "source": [
    "from coincurve import PublicKey"
   ]
  },
  {
   "cell_type": "code",
   "execution_count": 3,
   "id": "291b0a4c-a8a6-4acc-a931-a72949a2e2a2",
   "metadata": {},
   "outputs": [],
   "source": [
    "from sha3 import keccak_256"
   ]
  },
  {
   "cell_type": "code",
   "execution_count": 4,
   "id": "98cb0c33-3c19-46be-bff9-ff1e21825db0",
   "metadata": {},
   "outputs": [],
   "source": [
    "pk = keccak_256(token_bytes(32)).digest()"
   ]
  },
  {
   "cell_type": "code",
   "execution_count": 7,
   "id": "1db0294f-319e-49ac-9b40-8eb37fc52259",
   "metadata": {},
   "outputs": [
    {
     "data": {
      "text/plain": [
       "b\"\\xd4n\\x1c\\x15\\xe7\\x9c\\xd3\\xe1\\x8di\\xaa\\x13\\xfa_M\\x1d;\\x83\\xa3\\x8d\\x13\\xba\\xe5\\x8a\\xe9\\xb2\\xd7\\xf0\\x1e'\\x90B\""
      ]
     },
     "execution_count": 7,
     "metadata": {},
     "output_type": "execute_result"
    }
   ],
   "source": [
    "pk"
   ]
  },
  {
   "cell_type": "code",
   "execution_count": 55,
   "id": "3ee33ba6-72b7-4928-be3c-be2df85fd274",
   "metadata": {},
   "outputs": [],
   "source": [
    "pubkey = PublicKey.from_valid_secret(seeds).format(compressed=False)[1:]"
   ]
  },
  {
   "cell_type": "code",
   "execution_count": 56,
   "id": "05dd9b8d-6bba-4de4-9ffd-cdbe64d826dd",
   "metadata": {},
   "outputs": [
    {
     "data": {
      "text/plain": [
       "b\"\\x82\\t\\xbck\\x03\\xb6\\x03k\\x00\\x04]\\xb7/\\x1a\\x16\\x8c\\xe8\\xd7\\xce\\xb1O\\xf4\\xbbG\\xd9\\x8f\\xac\\xdd\\xd3\\xf5\\x12\\x1f\\x1f\\xce\\xca]\\xae\\xb9\\xb2\\xd1P`p\\xeb\\x90\\xf1V\\xe7b\\\\&:s\\xb0@w\\xe8Bx@'\\x07\\xa0\\xc8\""
      ]
     },
     "execution_count": 56,
     "metadata": {},
     "output_type": "execute_result"
    }
   ],
   "source": [
    "pubkey"
   ]
  },
  {
   "cell_type": "code",
   "execution_count": 61,
   "id": "e573d8d8-442f-41ac-b74f-cc079effa809",
   "metadata": {},
   "outputs": [
    {
     "data": {
      "text/plain": [
       "'b0bd3bedbe1fd59db8bacc12451b3b0749faecf079a54a38655b5e1a80f9eec7daf47995b9eae4bcc46c949db50ccead137b32194e773c749969c96f6575e5ae'"
      ]
     },
     "execution_count": 61,
     "metadata": {},
     "output_type": "execute_result"
    }
   ],
   "source": [
    "str(seeds.hex())"
   ]
  },
  {
   "cell_type": "code",
   "execution_count": 62,
   "id": "8adde00d-cc01-4083-89cf-4bd515744fc9",
   "metadata": {},
   "outputs": [],
   "source": [
    "addr = keccak_256(pubkey).digest()[-20:]"
   ]
  },
  {
   "cell_type": "code",
   "execution_count": 63,
   "id": "ce1c80bb-67b5-48b2-b00d-e46870db297b",
   "metadata": {},
   "outputs": [
    {
     "data": {
      "text/plain": [
       "'0x80652183ec0d3c440eda313cf31f552cf5ef917b'"
      ]
     },
     "execution_count": 63,
     "metadata": {},
     "output_type": "execute_result"
    }
   ],
   "source": [
    "'0x' + addr.hex()"
   ]
  },
  {
   "cell_type": "code",
   "execution_count": 60,
   "id": "148a37d2-56c9-44c0-8579-e953d79890c5",
   "metadata": {},
   "outputs": [
    {
     "data": {
      "text/plain": [
       "'ea'"
      ]
     },
     "execution_count": 60,
     "metadata": {},
     "output_type": "execute_result"
    }
   ],
   "source": [
    "token_bytes(1).hex()"
   ]
  },
  {
   "cell_type": "code",
   "execution_count": null,
   "id": "fd6a1176-81f5-45b2-b312-c379800af7e2",
   "metadata": {},
   "outputs": [],
   "source": []
  },
  {
   "cell_type": "code",
   "execution_count": null,
   "id": "172f842a-5fbe-4563-aa48-6f9fdd0e48d1",
   "metadata": {},
   "outputs": [],
   "source": []
  }
 ],
 "metadata": {
  "kernelspec": {
   "display_name": "Python 3 (ipykernel)",
   "language": "python",
   "name": "python3"
  },
  "language_info": {
   "codemirror_mode": {
    "name": "ipython",
    "version": 3
   },
   "file_extension": ".py",
   "mimetype": "text/x-python",
   "name": "python",
   "nbconvert_exporter": "python",
   "pygments_lexer": "ipython3",
   "version": "3.8.12"
  }
 },
 "nbformat": 4,
 "nbformat_minor": 5
}
